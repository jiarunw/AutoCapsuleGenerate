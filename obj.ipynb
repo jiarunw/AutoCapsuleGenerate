{
 "metadata": {
  "language_info": {
   "codemirror_mode": {
    "name": "ipython",
    "version": 3
   },
   "file_extension": ".py",
   "mimetype": "text/x-python",
   "name": "python",
   "nbconvert_exporter": "python",
   "pygments_lexer": "ipython3",
   "version": "3.8.3-final"
  },
  "orig_nbformat": 2,
  "kernelspec": {
   "name": "python3",
   "display_name": "Python 3.8.3 64-bit (conda)",
   "metadata": {
    "interpreter": {
     "hash": "b3ba2566441a7c06988d0923437866b63cedc61552a5af99d1f4fb67d367b25f"
    }
   }
  }
 },
 "nbformat": 4,
 "nbformat_minor": 2,
 "cells": [
  {
   "cell_type": "code",
   "execution_count": 65,
   "metadata": {},
   "outputs": [],
   "source": [
    "import pandas as pd\n",
    "import numpy as np\n",
    "data = pd.read_csv(\"model.obj\", sep = \" \", header = None)\n",
    "v = np.array(data[data[:][0]==\"v\"][[1, 2, 3]], dtype = float)"
   ]
  },
  {
   "cell_type": "code",
   "execution_count": 66,
   "metadata": {},
   "outputs": [],
   "source": [
    "center = np.mean(v, axis = 0)\n",
    "_, Sigma, vec = np.linalg.svd(v - center)\n",
    "p = vec[np.argmax(Sigma), :]\n",
    "p /= np.linalg.norm(p)\n",
    "proj = np.sum(p * v, axis = 1)\n",
    "v_start = v[np.argmin(proj), :]\n",
    "v_end = v[np.argmax(proj), :]\n",
    "end1 = center - p * np.sum(p * (center - v_start))\n",
    "end2 = center + p * np.sum(p * (v_end - center))"
   ]
  },
  {
   "cell_type": "code",
   "execution_count": 67,
   "metadata": {},
   "outputs": [],
   "source": [
    "dis = np.linalg.norm(np.cross(v - center, p), axis = 1)\n",
    "R = np.max(dis)"
   ]
  },
  {
   "cell_type": "code",
   "execution_count": 78,
   "metadata": {},
   "outputs": [
    {
     "output_type": "execute_result",
     "data": {
      "text/plain": [
       "(0.9767083706717361,\n",
       " array([ 0.0196648 , -0.70286207,  2.29314298]),\n",
       " array([-0.09250007,  1.93502814, -2.31842034]),\n",
       " array([-0.02110781,  0.49641297, -0.86782984]),\n",
       " array([0.       , 0.6397265, 0.       ]))"
      ]
     },
     "metadata": {},
     "execution_count": 78
    }
   ],
   "source": [
    "ccenter = 0.5*(v_start+v_end)\n",
    "R,end1,end2, p,ccenter"
   ]
  },
  {
   "cell_type": "code",
   "execution_count": 73,
   "metadata": {},
   "outputs": [],
   "source": [
    "np.sum(p * (v_end - v_start))\n",
    "ccenter = np.mean(v_start+v_end)"
   ]
  },
  {
   "cell_type": "code",
   "execution_count": 79,
   "metadata": {},
   "outputs": [
    {
     "output_type": "execute_result",
     "data": {
      "text/plain": [
       "array([-0.310667,  1.691147, -2.452618])"
      ]
     },
     "metadata": {},
     "execution_count": 79
    }
   ],
   "source": [
    "\"%.\"v_end\n"
   ]
  }
 ]
}